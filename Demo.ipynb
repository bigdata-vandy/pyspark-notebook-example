{
 "cells": [
  {
   "cell_type": "markdown",
   "metadata": {},
   "source": [
    "# A simple demonstration of PySpark"
   ]
  },
  {
   "cell_type": "code",
   "execution_count": 1,
   "metadata": {
    "collapsed": false
   },
   "outputs": [],
   "source": [
    "%matplotlib inline\n",
    "import matplotlib.pyplot as plt\n",
    "\n",
    "import pyspark\n",
    "import random\n",
    "import time"
   ]
  },
  {
   "cell_type": "markdown",
   "metadata": {},
   "source": [
    "## Estimate $\\pi$\n",
    "\n",
    "As a simple example, let's approximate $pi$ with brute force."
   ]
  },
  {
   "cell_type": "markdown",
   "metadata": {},
   "source": [
    "Define a function to decide whether a randomly chosen point in the $XY$ plane lies inside the unit circle."
   ]
  },
  {
   "cell_type": "code",
   "execution_count": 2,
   "metadata": {
    "collapsed": true
   },
   "outputs": [],
   "source": [
    "def inside(p):     \n",
    "    x, y = random.random(), random.random()\n",
    "    return x*x + y*y < 1"
   ]
  },
  {
   "cell_type": "markdown",
   "metadata": {},
   "source": [
    "Define a function that uses the `SparkContext`, `sc`, to distribute the work across partitions"
   ]
  },
  {
   "cell_type": "code",
   "execution_count": 3,
   "metadata": {
    "collapsed": true
   },
   "outputs": [],
   "source": [
    "def approx_pi(num_samples, num_partitions):\n",
    "    num_inside = sc.parallelize(range(0, num_samples), num_partitions).filter(inside).count()\n",
    "    pi = 4 * num_inside / num_samples\n",
    "    return pi"
   ]
  },
  {
   "cell_type": "markdown",
   "metadata": {},
   "source": [
    "Explore how the number of partitions affects the speed of the computation."
   ]
  },
  {
   "cell_type": "code",
   "execution_count": 4,
   "metadata": {
    "collapsed": false
   },
   "outputs": [
    {
     "data": {
      "text/plain": [
       "[<matplotlib.lines.Line2D at 0x7f59449b80f0>]"
      ]
     },
     "execution_count": 4,
     "metadata": {},
     "output_type": "execute_result"
    },
    {
     "data": {
      "image/png": "[encoded data removed]",
      "text/plain": [
       "<matplotlib.figure.Figure at 0x7f594d4cc518>"
      ]
     },
     "metadata": {},
     "output_type": "display_data"
    }
   ],
   "source": [
    "samples = 100000000\n",
    "num_partitions = 7\n",
    "errors = []\n",
    "times = []\n",
    "partitions = []\n",
    "\n",
    "for _ in range(5):\n",
    "    t0 = time.time()\n",
    "    pi_approx = approx_pi(samples, num_partitions)\n",
    "    t1 = time.time()\n",
    "    \n",
    "    \n",
    "    dt = t1 - t0\n",
    "    errors.append(pi_approx - 3.1415926536)\n",
    "    times.append(dt)\n",
    "    \n",
    "    partitions.append(num_partitions)\n",
    "    num_partitions *= 3\n",
    "    \n",
    "\n",
    "plt.plot(partitions, times)"
   ]
  },
  {
   "cell_type": "markdown",
   "metadata": {},
   "source": [
    "# Test for Benford's law\n",
    "\n",
    "Let's count the occurence of numeric digits within a body of text and decide if the distribution of digits follows [Benford's law](https://en.wikipedia.org/wiki/Benford%27s_law). The data we'll explore are bikeshare records in DC, currently available in the shared `/data` directory on the Big Data cluster. For example:\n",
    "\n",
    "```bash\n",
    "$ hadoop fs -cat /data/capitalbikeshare-data/2016-Q3-Trips-History-Data-1.csv | head -20\n",
    "Duration (ms),Start date,End date,Start station number,Start station,End station number,End station,Bike number,Member Type\n",
    "840866,8/31/2016 23:59,9/1/2016 0:13,31117,15th & Euclid St  NW,31228,8th & H St NW,W20409,Registered\n",
    "656098,8/31/2016 23:58,9/1/2016 0:09,31279,19th & G St NW,31600,5th & K St NW,W20756,Registered\n",
    "353159,8/31/2016 23:58,9/1/2016 0:04,31107,Lamont & Mt Pleasant NW,31101,14th & V St NW,W22626,Registered\n",
    "219234,8/31/2016 23:58,9/1/2016 0:02,31200,Massachusetts Ave & Dupont Circle NW,31212,21st & M St NW,W00980,Casual\n",
    "213473,8/31/2016 23:56,8/31/2016 23:59,31281,8th & O St NW,31280,11th & S St NW,W21338,Registered\n",
    "637695,8/31/2016 23:56,9/1/2016 0:07,31624,North Capitol St & F St NW,31241,Thomas Circle,W21422,Registered\n",
    "356455,8/31/2016 23:54,9/1/2016 0:00,31034,N Randolph St & Fairfax Dr,31023,Fairfax Dr & Wilson Blvd,W00748,Casual\n",
    "924793,8/31/2016 23:53,9/1/2016 0:08,31124,14th & Irving St NW,31267,17th St & Massachusetts Ave NW,W21480,Registered\n",
    "309433,8/31/2016 23:53,8/31/2016 23:58,31242,18th St & Pennsylvania Ave NW,31285,22nd & P ST NW,W20113,Registered\n",
    "447572,8/31/2016 23:52,8/31/2016 23:59,31007,Crystal City Metro / 18th & Bell St,31011,23rd & Crystal Dr,W00943,Registered\n",
    "438823,8/31/2016 23:52,8/31/2016 23:59,31122,16th & Irving St NW,31214,17th & Corcoran St NW,W00833,Registered\n",
    "350341,8/31/2016 23:51,8/31/2016 23:57,31264,6th St & Indiana Ave NW,31244,4th & E St SW,W20404,Registered\n",
    "568722,8/31/2016 23:51,9/1/2016 0:01,31238,14th & G St NW,31201,15th & P St NW,W22750,Registered\n",
    "229685,8/31/2016 23:50,8/31/2016 23:54,31304,36th & Calvert St NW / Glover Park,31226,34th St & Wisconsin Ave NW,W21185,Registered\n",
    "405098,8/31/2016 23:50,8/31/2016 23:57,31212,21st & M St NW,31114,18th St & Wyoming Ave NW,W22401,Registered\n",
    "2592652,8/31/2016 23:47,9/1/2016 0:30,31067,Columbia Pike & S Walter Reed Dr,31260,23rd & E St NW ,W21736,Registered\n",
    "570531,8/31/2016 23:46,8/31/2016 23:56,31111,10th & U St NW,31122,16th & Irving St NW,W21005,Registered\n",
    "981529,8/31/2016 23:46,9/1/2016 0:03,31235,19th St & Constitution Ave NW,31258,Lincoln Memorial,W22953,Registered\n",
    "1138485,8/31/2016 23:45,9/1/2016 0:04,31000,Eads St & 15th St S,31000,Eads St & 15th St S,W21251,Casual\n",
    "```"
   ]
  },
  {
   "cell_type": "markdown",
   "metadata": {},
   "source": [
    "Define our mapping function that will count the number of digits"
   ]
  },
  {
   "cell_type": "code",
   "execution_count": 5,
   "metadata": {
    "collapsed": false
   },
   "outputs": [
    {
     "name": "stdout",
     "output_type": "stream",
     "text": [
      "[0, 4, 2, 2, 1, 0, 0, 0, 0, 0]\n"
     ]
    }
   ],
   "source": [
    "def count_digits(string):\n",
    "    counter = [0] * 10\n",
    "    for c in string:\n",
    "        if c in '0123456789':\n",
    "            counter[int(c)] += 1\n",
    "    return counter\n",
    "\n",
    "dummy_counter = count_digits('abcd111123234')\n",
    "print(dummy_counter)"
   ]
  },
  {
   "cell_type": "markdown",
   "metadata": {},
   "source": [
    "Define a reduce function that combines two counters into one."
   ]
  },
  {
   "cell_type": "code",
   "execution_count": 6,
   "metadata": {
    "collapsed": false
   },
   "outputs": [
    {
     "name": "stdout",
     "output_type": "stream",
     "text": [
      "[0, 8, 4, 4, 2, 0, 0, 0, 0, 0]\n"
     ]
    }
   ],
   "source": [
    "def combine_digits(a, b):\n",
    "    # assert(len(a) == len(b) == 10)\n",
    "    return [a[i] + b[i] for i in range(10)]\n",
    "\n",
    "print(combine_digits(dummy_counter, dummy_counter))"
   ]
  },
  {
   "cell_type": "markdown",
   "metadata": {},
   "source": [
    "Apply the map and reduce functions"
   ]
  },
  {
   "cell_type": "code",
   "execution_count": 7,
   "metadata": {
    "collapsed": false
   },
   "outputs": [
    {
     "name": "stdout",
     "output_type": "stream",
     "text": [
      "[89309440, 133682530, 96328002, 50280321, 38989407, 37620303, 30666030, 27789765, 26541711, 23779326]\n"
     ]
    }
   ],
   "source": [
    "lines = sc.textFile('/data/capital*/*.csv', 60) # notice the globbing functionality in the file names\n",
    "counts = lines.map(count_digits).reduce(combine_digits)\n",
    "print(counts)"
   ]
  },
  {
   "cell_type": "markdown",
   "metadata": {},
   "source": [
    "Plot the counts as a histogram."
   ]
  },
  {
   "cell_type": "code",
   "execution_count": 8,
   "metadata": {
    "collapsed": false
   },
   "outputs": [
    {
     "data": {
      "text/plain": [
       "[<matplotlib.axis.XTick at 0x7f5946d62908>,\n",
       " <matplotlib.axis.XTick at 0x7f5944399550>,\n",
       " <matplotlib.axis.XTick at 0x7f59443a5e48>,\n",
       " <matplotlib.axis.XTick at 0x7f5944935f98>,\n",
       " <matplotlib.axis.XTick at 0x7f594493a9e8>,\n",
       " <matplotlib.axis.XTick at 0x7f594493c438>,\n",
       " <matplotlib.axis.XTick at 0x7f594493ce48>,\n",
       " <matplotlib.axis.XTick at 0x7f5944940898>,\n",
       " <matplotlib.axis.XTick at 0x7f59449442e8>]"
      ]
     },
     "execution_count": 8,
     "metadata": {},
     "output_type": "execute_result"
    },
    {
     "data": {
      "image/png": "[encoded data removed]",
      "text/plain": [
       "<matplotlib.figure.Figure at 0x7f59449d0860>"
      ]
     },
     "metadata": {},
     "output_type": "display_data"
    }
   ],
   "source": [
    "fig, ax = plt.subplots()\n",
    "ax.bar(range(1,10), counts[1:], align='center')\n",
    "ax.set_ylabel('Counts')\n",
    "ax.set_xlabel('Digit')\n",
    "ax.set_xlim(0.5, 9.5)\n",
    "ax.set_xticks(range(1, 10))\n",
    "# ax.set_xticklabels(range(1,10))"
   ]
  },
  {
   "cell_type": "markdown",
   "metadata": {},
   "source": [
    "A set of numbers is said to satisfy Benford's law if the leading digit $d (d ∈ {1, ..., 9})$ occurs with probability\n",
    "\n",
    "$$\n",
    "    P ( d ) = \\log _{10}\\left(1+{\\frac {1}{d}}\\right). \n",
    "    $$"
   ]
  },
  {
   "cell_type": "code",
   "execution_count": 11,
   "metadata": {
    "collapsed": false
   },
   "outputs": [
    {
     "name": "stdout",
     "output_type": "stream",
     "text": [
      "Ideal: 0.3010299956639812 --- Actual 0.28707111711961025\n",
      "Ideal: 0.17609125905568124 --- Actual 0.20685565379440418\n",
      "Ideal: 0.12493873660829992 --- Actual 0.10797243228866628\n",
      "Ideal: 0.09691001300805642 --- Actual 0.08372621780363636\n",
      "Ideal: 0.07918124604762482 --- Actual 0.08078619104970727\n",
      "Ideal: 0.06694678963061322 --- Actual 0.06585252006917794\n",
      "Ideal: 0.05799194697768673 --- Actual 0.05967600166634672\n",
      "Ideal: 0.05115252244738129 --- Actual 0.05699591881628697\n",
      "Ideal: 0.04575749056067514 --- Actual 0.05106394739216406\n"
     ]
    }
   ],
   "source": [
    "from math import log10\n",
    "\n",
    "total_counts = sum(counts[1:])\n",
    "probs = [cts / total_counts for cts in counts]\n",
    "\n",
    "for d, prob in enumerate(probs):\n",
    "    if d == 0:\n",
    "        continue\n",
    "    ideal = log10(1 + 1 / d)\n",
    "    print(\"Ideal: {0} --- Actual {1}\".format(ideal, prob))"
   ]
  },
  {
   "cell_type": "markdown",
   "metadata": {},
   "source": [
    "sc.stop()"
   ]
  }
 ],
 "metadata": {
  "anaconda-cloud": {},
  "kernelspec": {
   "display_name": "Python [default]",
   "language": "python",
   "name": "python3"
  },
  "language_info": {
   "codemirror_mode": {
    "name": "ipython",
    "version": 3
   },
   "file_extension": ".py",
   "mimetype": "text/x-python",
   "name": "python",
   "nbconvert_exporter": "python",
   "pygments_lexer": "ipython3",
   "version": "3.5.2"
  }
 },
 "nbformat": 4,
 "nbformat_minor": 1
}
